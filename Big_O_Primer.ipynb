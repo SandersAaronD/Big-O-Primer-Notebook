{
  "nbformat": 4,
  "nbformat_minor": 0,
  "metadata": {
    "colab": {
      "name": "Big-O Primer.ipynb",
      "provenance": [],
      "collapsed_sections": []
    },
    "kernelspec": {
      "name": "python3",
      "display_name": "Python 3"
    }
  },
  "cells": [
    {
      "cell_type": "markdown",
      "metadata": {
        "id": "D-M_W_Bd1GAg",
        "colab_type": "text"
      },
      "source": [
        "# How To Eyeball Big-O"
      ]
    },
    {
      "cell_type": "markdown",
      "metadata": {
        "id": "tqkbS01m1UtH",
        "colab_type": "text"
      },
      "source": [
        "Big-O notation is one of the areas that students of computer science, and especially self-taught programmers, seem to have the most trouble with. It's used to explain the runtime of algorithms, it's a fundamental topic, it isn't optional, and lots of people find it very inaccessible.\n",
        "\n",
        "It's frequently introduced in a formal mathematical fashion (e.g. [this](https://en.wikipedia.org/wiki/Big_O_notation#Formal_definition)) that isn't accessible to anyone outside a university, or, really, most people inside universities who aren't math majors.\n",
        "\n",
        "Meanwhile, in real code, people mostly seem to eyeball it and it works just fine. You can be fairly innumerate and still be able to 'see' the big-O of a short program or script. Ordinarily this is a skill that people build after being introduced to the mathematical definition of big-O, but if what you want is to be able to look at a program and know it's big-O, you would perhaps want to skip the math and move straight to being able to eyeball it. Or you're planning on doing both, but want to learn the intuitive way too.\n",
        "\n",
        "So that's what this is: The quick and dirty way of learning and doing big-O analysis."
      ]
    },
    {
      "cell_type": "markdown",
      "metadata": {
        "id": "wQtO6tkzHvmw",
        "colab_type": "text"
      },
      "source": [
        "# O(1) or constant runtime"
      ]
    },
    {
      "cell_type": "code",
      "metadata": {
        "id": "K5v9xKhV1Rjw",
        "colab_type": "code",
        "colab": {}
      },
      "source": [
        "print(\"Hello world!\")"
      ],
      "execution_count": 0,
      "outputs": []
    },
    {
      "cell_type": "markdown",
      "metadata": {
        "id": "juz5jLwMTxlI",
        "colab_type": "text"
      },
      "source": [
        "The above is Hello World. It has a constant runtime, that is, a runtime that is always the same regardless of input. In fact, there is no input at all -- no variable, just the hardcoded string \"Hello world!\" -- so it has to have constant runtime.\n",
        "\n",
        "In big-O, we say it is O(1). This is synonymous with saying it has constant runtime; no matter what input is fed to it, it takes the same amount of time."
      ]
    },
    {
      "cell_type": "code",
      "metadata": {
        "id": "4i0_mMppUerB",
        "colab_type": "code",
        "colab": {}
      },
      "source": [
        "for index in range(400):\n",
        "  print(\"Hello world\")\n",
        "print(\"All done\")"
      ],
      "execution_count": 0,
      "outputs": []
    },
    {
      "cell_type": "markdown",
      "metadata": {
        "id": "GGxsEAWrU3g3",
        "colab_type": "text"
      },
      "source": [
        "What does this do? It runs a loop four hundred times. The loop is, itself, Hello World, so it prints \"Hello world\" four hundred times on four hundred separate lines, and then this program it prints \"all done\" so that you know it's finished working.\n",
        "\n",
        "So compared to the simple \"hello world\", it should run at least four hundred and one times as long -- however, it's still O(1). It has constant runtime. Every time it is run, it will run for the same length of time. This is a fundamental property of big-O: big-O ignores completely whether a program takes ten minutes or ten hours, it only tells you how the time to run the program changes with input.\n",
        "\n",
        "Since there's still no input, and it still takes the same time to run every time you run it, it's still O(1)."
      ]
    },
    {
      "cell_type": "markdown",
      "metadata": {
        "id": "GdZzoaonH0E5",
        "colab_type": "text"
      },
      "source": [
        "# O(n) or linear runtime"
      ]
    },
    {
      "cell_type": "code",
      "metadata": {
        "id": "8amW0umOVpA6",
        "colab_type": "code",
        "colab": {}
      },
      "source": [
        "def fizzbuzz1():\n",
        "  for num in range(1, 100):\n",
        "    if not (num % 3) and not (num % 5):\n",
        "      print(\"Fizzbuzz\")\n",
        "    elif not (num % 3):\n",
        "      print(\"Fizz\")\n",
        "    elif not (num % 5):\n",
        "      print(\"Buzz\")\n",
        "    else:\n",
        "      print(num)\n",
        "\n",
        "def fizzbuzz2(n):\n",
        "  for num in range(1, n+1):\n",
        "    if not (num % 3) and not (num % 5):\n",
        "      print(\"Fizzbuzz\")\n",
        "    elif not (num % 3):\n",
        "      print(\"Fizz\")\n",
        "    elif not (num % 5):\n",
        "      print(\"Buzz\")\n",
        "    else:\n",
        "      print(num)\n",
        "\n",
        "fizzbuzz1()\n",
        "fizzbuzz2(100)"
      ],
      "execution_count": 0,
      "outputs": []
    },
    {
      "cell_type": "markdown",
      "metadata": {
        "id": "pJqBb1DgWm7-",
        "colab_type": "text"
      },
      "source": [
        "This is fizzbuzz, a very dated test of basic coding ability. I would recommend against running it because the output will clutter the notebook. It prints out all numbers from 1 to 100, printing \"fizz\" if it's divisible by three, \"buzz\" if it's divisible by five, and \"fizzbuzz\" if it's divisible by both.\n",
        "\n",
        "You'll notice I've written out two fizzbuzz functions. That's because these two blocks of code have different big-O runtimes. The first block sets x to 100, so it always runs the loop 100 times, and then stops. So it is O(1), constant runtime, like the previous two blocks of code; regardless of input, in this case because it takes no input, it runs that loop exactly one hundred times and then stops.\n",
        "\n",
        "The second block of code, however, does not set any specific upper value. The fizzbuzz function takes an input number, n, and runs that many times before terminating. So that function is O(n). If n is 100, it will run 100 times, if n is 1000, it will run 1000 times, and so on. We can also say that the function has *linear runtime* in the same way that an O(1) function has constant runtime.\n",
        "\n",
        "These two functions, taken together, are also O(n). Why? Because big-O is concerned with growth related to input. If you were to run both of these functions, one after the other, your first function would always take a certain amount of time, but the second function would grow according to the size of the input. We always take the largest growth rate when defining the big-O of a program that has more than one component; we are looking for the worst-performing part of the program.\n",
        "\n",
        "And that is also, mathematically, what big-O is: \"Worst-case complexity\"."
      ]
    },
    {
      "cell_type": "code",
      "metadata": {
        "id": "Jlq9RGPbZAgz",
        "colab_type": "code",
        "colab": {}
      },
      "source": [
        "def fizzybuzzy1(n):\n",
        "  for num in range(1, n+1):\n",
        "    if not (num % 3) and not (num % 5):\n",
        "      for i in range(1000):\n",
        "        print(\"Fizzbuzz\")\n",
        "    elif not (num % 3):\n",
        "      for i in range(1000):\n",
        "        print(\"Fizz\")\n",
        "    elif not (num % 5):\n",
        "      for i in range(1000):\n",
        "        print(\"Buzz\")\n",
        "    else:\n",
        "      for i in range(1000):\n",
        "        print(num)\n",
        "\n",
        "def fizzybuzzy2(n):\n",
        "  for i in range(1000):\n",
        "    fizzbuzz2(n)\n",
        "\n",
        "fizzybuzzy2(5)\n",
        "fizzybuzzy1(5)"
      ],
      "execution_count": 0,
      "outputs": []
    },
    {
      "cell_type": "markdown",
      "metadata": {
        "id": "LcZorlmGZ-O2",
        "colab_type": "text"
      },
      "source": [
        "These two functions, fizzybuzzy1 and fizzybuzzy2, are very similar to fizzbuzz2 except for one crucial difference: they both take a thousand times as long to finish. Fizzybuzzy1 prints a thousand times for each time fizzbuzz2 prints once, and fizzybuzzy2 runs the entire fizzbuzz2 function a thousand times.\n",
        "\n",
        "What does this do to their big-O runtimes compared to fizzbuzz2? The answer is: Absolutely nothing. They're both, still, O(n), the same as fizzbuzz2. Why? For the same reason that a program that runs a loop 400 times and one that only runs once are both O(1): because big-O does not measure how long a function runs. It measures how fast that function grows as the input gets larger.\n",
        "\n",
        "In the same way that all constant-time algorithms are O(1) and we don't write O(401), any algorithm that has a single loop that scales in size with input is O(n), not O(1000n).\n",
        "\n",
        "If you want the mathematical definition, O(1) = O(401) and O(n) = O(1000n), and since they're equal we just write O(1) and O(n) because it makes life easier."
      ]
    },
    {
      "cell_type": "markdown",
      "metadata": {
        "id": "ZybUIFs8H6Y3",
        "colab_type": "text"
      },
      "source": [
        "# O(n<sup>2</sup>) and other polynomial runtimes"
      ]
    },
    {
      "cell_type": "code",
      "metadata": {
        "id": "mRXcAkpgcUUK",
        "colab_type": "code",
        "colab": {}
      },
      "source": [
        "def doubleloop(n):\n",
        "  for i in range(n):\n",
        "    for j in range(n):\n",
        "      print((i, j))\n",
        "\n",
        "doubleloop(3)"
      ],
      "execution_count": 0,
      "outputs": []
    },
    {
      "cell_type": "markdown",
      "metadata": {
        "id": "PCPsTbhNdKkW",
        "colab_type": "text"
      },
      "source": [
        "This is our first O(n<sup>2</sup>) function. If the input is one it will run one time, if the input is two it will run four times, if the input is three it will run nine times ... and so on.\n",
        "\n",
        "You could reason this out explicitly, for this and any other set of nested loops or functions you find, or you could remember this rule:\n",
        "\n",
        "If loops or functions are nested inside each other, you multiply their big-O complexities by each other to get the result.\n",
        "\n",
        "So the first for loop is O(n), and the second for loop is O(n), and because they are nested this function as a whole is O(n<sup>2</sup>)."
      ]
    },
    {
      "cell_type": "code",
      "metadata": {
        "id": "PdLHZruyeLZ1",
        "colab_type": "code",
        "colab": {}
      },
      "source": [
        "def loop1(i, n):\n",
        "  for j in range(n):\n",
        "    print((i, j))\n",
        "\n",
        "def loop2(n):\n",
        "  for i in range(n):\n",
        "    loop1(i, n)\n",
        "\n",
        "loop2(3)"
      ],
      "execution_count": 0,
      "outputs": []
    },
    {
      "cell_type": "markdown",
      "metadata": {
        "id": "oX_P4KhyeVAd",
        "colab_type": "text"
      },
      "source": [
        "This is also O(n<sup>2</sup>). Instead of having two nested loops, we have nested function calls; the loop1 function is O(n), and the loop2 function has an O(n) loop with a loop1 function call in it, so it's O(n<sup>2</sup>) as a whole.\n",
        "\n",
        "The loop2 function is, in fact, exactly the same as the doubleloop function from earlier; it's just that instead of being able to directly see the second loop, it's inside of a function call.\n",
        "\n",
        "This logic continues for O(n<sup>3</sup>), O(n<sup>4</sup>), and so on, so I won't go out of my way to provide too many more examples of nested loops or function calls; you get the point, hopefully! If either loops or function calls are nested, you multiply their big-O runtimes together to get the total big-O.\n",
        "\n",
        "There is one last, slightly different type of O(n<sup>2</sup>) program that you'll want to be able to recognize."
      ]
    },
    {
      "cell_type": "code",
      "metadata": {
        "id": "wf4PQrotgeFL",
        "colab_type": "code",
        "colab": {}
      },
      "source": [
        "def triangular(n):\n",
        "  for i in range(n):\n",
        "    for j in range(i):\n",
        "      print(j)"
      ],
      "execution_count": 0,
      "outputs": []
    },
    {
      "cell_type": "markdown",
      "metadata": {
        "id": "5VGWK2w_g5qB",
        "colab_type": "text"
      },
      "source": [
        "This is O(n<sup>2</sup>). On the first run of the outer loop, the inner loop runs once; on the second run of the outer loop, the inner loop runs twice; on the third run of the outer loop, the inner loop runs three times, and so on.\n",
        "\n",
        "The formula for how many times the inner loop will run in total is called a 'triangular number', and it will be equal to n*(n+1)/2, which is equal to n<sup>2</sup>/2 + n/2. So, this function is also O(n<sup>2</sup>).\n",
        "\n",
        "In general, if there is an outer loop that runs N times, and an inner loop that performs one operation, then two operations, then three operations, and so on, up to N operations, the runtime is O(n<sup>2</sup>) because the number of operations will be equal to the triangular number formula."
      ]
    },
    {
      "cell_type": "markdown",
      "metadata": {
        "id": "Fa2y2ySKICZb",
        "colab_type": "text"
      },
      "source": [
        "# If Your Input Is A List, Array, or Other Sequence\n",
        "\n",
        "So far I've been using an integer as the input, and the n in O(n) has been the magnitude (size) of the integer; if the input is a list or array of objects, we use the number of objects in the list or array as n. Some examples:"
      ]
    },
    {
      "cell_type": "code",
      "metadata": {
        "id": "j2yEadUujY_X",
        "colab_type": "code",
        "colab": {}
      },
      "source": [
        "mylist = list(range(20))\n",
        "\n",
        "def printfirstobject(input):\n",
        "  if len(input) > 0:\n",
        "    print(input[0])\n",
        "\n",
        "printfirstobject(mylist)"
      ],
      "execution_count": 0,
      "outputs": []
    },
    {
      "cell_type": "markdown",
      "metadata": {
        "id": "OIa4OHfljmQ7",
        "colab_type": "text"
      },
      "source": [
        "This function takes a list as input, and it is O(1). If the list is empty it does nothing; if the list is any other length, it takes the first object and prints it. It never runs longer than this."
      ]
    },
    {
      "cell_type": "code",
      "metadata": {
        "id": "L8X_GIl_lBQk",
        "colab_type": "code",
        "colab": {}
      },
      "source": [
        "def printlargestnumber(input):\n",
        "  if len(input) > 0:\n",
        "    max = float('-inf') # If you've never seen this before, this is how you set something to negative infinity in python by the way!\n",
        "    for number in input:\n",
        "      if number > max: # There is a function for this but it's less clear\n",
        "        max = number\n",
        "    print(max)\n",
        "\n",
        "printlargestnumber(mylist)"
      ],
      "execution_count": 0,
      "outputs": []
    },
    {
      "cell_type": "markdown",
      "metadata": {
        "id": "xPeDzpvdlt99",
        "colab_type": "text"
      },
      "source": [
        "This is O(n). It always scans the entire input list, seeking the maximum number, and then prints whatever that maximum is at the end of the list.\n",
        "\n",
        "Two interesting things: If the list were sorted from biggest to smallest already, we could print the maximum with O(1) runtime, because the biggest number would simply be the first one.\n",
        "\n",
        "If we were searching for a specific number, it would still be O(n) because if the number were the last in the list or not in the list, we would scan the entire list; however, it is possible that the number we were looking for would be first and we'd find it immediately. This function would still be O(n), however, because big-O is worst-case complexity. The fact that the function *could* scan the entire input means it's O(n), regardless of if it always does."
      ]
    },
    {
      "cell_type": "markdown",
      "metadata": {
        "id": "p3jJbel-IOwG",
        "colab_type": "text"
      },
      "source": [
        "# O(n!) and O(2^n), or, algorithms to avoid if possible\n",
        "\n",
        "O(n!) is factorial growth. O(2^n) is exponential growth. Programs running them will tend to run very slowly, or, for bigger input, until we all get old and die. Frequently, we just call all O(n!) or O(2^n) algorithms \"exponential runtime\", even though factorial is technically its own (larger) thing, because in practice they're one category of algorithms, ie, \"algorithms to avoid because they take so long to run\".\n",
        "\n",
        "You still want to be able to recognize them, though."
      ]
    },
    {
      "cell_type": "code",
      "metadata": {
        "id": "Ni_DgiKzJXUx",
        "colab_type": "code",
        "outputId": "566231d1-0859-4aa8-be07-5c10eb7c9276",
        "colab": {
          "base_uri": "https://localhost:8080/",
          "height": 34
        }
      },
      "source": [
        "def fib(n):\n",
        "  if n == 0 or n == 1:\n",
        "    return 1\n",
        "  else:\n",
        "    return fib(n-1) + fib(n-2)\n",
        "\n",
        "fib(5)"
      ],
      "execution_count": 0,
      "outputs": [
        {
          "output_type": "execute_result",
          "data": {
            "text/plain": [
              "8"
            ]
          },
          "metadata": {
            "tags": []
          },
          "execution_count": 2
        }
      ]
    },
    {
      "cell_type": "markdown",
      "metadata": {
        "id": "zj4HN1ABJ_W9",
        "colab_type": "text"
      },
      "source": [
        "This produces the nth fibonacci number by calculating all precending fibonacci numbers. If you do a relatively convoluted analysis, you can prove that this is O((1+$\\sqrt{5}$/2)<sup>n</sup>); in practice we'd usually be happy to just say it's O(2<sup>n</sup>).\n",
        "\n",
        "When you call this function for any number higher than 0 or 1, it calls itself twice. Each of those calls will then spawn two calls, and so on. It only stops calling itself when the input n has been reduced to 0 or 1. Since every time n goes up by one, the number of calls doubles, it's O(2<sup>n</sup>).\n",
        "\n",
        "It's technically (slightly) faster than O(2<sup>n</sup>). This is because one of the calls to fib is using n-2 instead of n-1. The 'branch' of the program that always calls the fib function with n-2 will finish twice as fast as the branch that calls it with n-1. This is what makes the difference.\n",
        "\n",
        "However, since big-O is worst-case and O(2<sup>n</sup>) is close enough to give a practical idea of how it will scale, it should be good enough.\n",
        "\n",
        "More importantly: This is the pattern for what an exponential function would likely look like. Any time that n goes up by one, you end up doing roughly twice as many function calls and doing twice as much work."
      ]
    },
    {
      "cell_type": "code",
      "metadata": {
        "id": "WQdNZun7okS9",
        "colab_type": "code",
        "outputId": "559d921e-1ead-4d70-d112-0e8792670169",
        "colab": {
          "base_uri": "https://localhost:8080/",
          "height": 34
        }
      },
      "source": [
        "def allpossiblestrings(n):\n",
        "  '''Generates all possible binary strings up to length n.'''\n",
        "  alphabet = current = {\"0\", \"1\"} # This is a set containing only 0 and 1\n",
        "  strings = set() # This is an empty set\n",
        "  for i in range(n):\n",
        "    strings.update(current)\n",
        "    current = {character + string for string in current for character in alphabet}\n",
        "  return strings\n",
        "\n",
        "print(allpossiblestrings(3))"
      ],
      "execution_count": 0,
      "outputs": [
        {
          "output_type": "stream",
          "text": [
            "{'10', '1', '11', '001', '110', '010', '100', '00', '01', '011', '0', '101', '111', '000'}\n"
          ],
          "name": "stdout"
        }
      ]
    },
    {
      "cell_type": "markdown",
      "metadata": {
        "id": "gLjrgNCuqCqS",
        "colab_type": "text"
      },
      "source": [
        "This is also O(2<sup>n</sup>). We are generating all strings up to length n. We start with strings of length 1 (\"0\" and \"1\"), and to generate strings of length 2, we take both of those strings and concatenate them with first a zero, then a one. So if n goes up by one, we have to do twice as many operations to generate twice as many strings as before.\n",
        "\n",
        "We also have to use up twice as much space; I won't go into this in detail, but 'space complexity' is also written in big-O, and is used to measure how much memory an algorithm occupies the same way you would measure how much time it occupies.\n",
        "\n",
        "Since this function is putting all of these strings into a set, and since there are twice as many of them each time n goes up, it's O(2^<sup>n</sup>) space complexity too. We can ignore the fact that the strings themselves are getting longer because they're only getting longer in a linear, rather than exponential fashion, and since that's a smaller order."
      ]
    },
    {
      "cell_type": "code",
      "metadata": {
        "id": "jC9T8xJDsbQw",
        "colab_type": "code",
        "outputId": "4209d87d-ecf9-40fc-8d55-c349e8e900fe",
        "colab": {
          "base_uri": "https://localhost:8080/",
          "height": 187
        }
      },
      "source": [
        "def all_perms(elements):\n",
        "  ret = []\n",
        "  if len(elements) <=1:\n",
        "    return elements\n",
        "  else:\n",
        "    for perm in all_perms(elements[1:]):\n",
        "      for i in range(len(elements)):\n",
        "        ret.append(perm[:i] + elements[0:1] + perm[i:])\n",
        "  return ret\n",
        "\n",
        "print(all_perms(\"hello world\"))"
      ],
      "execution_count": 0,
      "outputs": [
        {
          "output_type": "stream",
          "text": [
            "IOPub data rate exceeded.\n",
            "The notebook server will temporarily stop sending output\n",
            "to the client in order to avoid crashing it.\n",
            "To change this limit, set the config variable\n",
            "`--NotebookApp.iopub_data_rate_limit`.\n",
            "\n",
            "Current values:\n",
            "NotebookApp.iopub_data_rate_limit=1000000.0 (bytes/sec)\n",
            "NotebookApp.rate_limit_window=3.0 (secs)\n",
            "\n"
          ],
          "name": "stderr"
        }
      ]
    },
    {
      "cell_type": "markdown",
      "metadata": {
        "id": "56es6EcmATNK",
        "colab_type": "text"
      },
      "source": [
        "As you can see, running this function with \"Hello world\" as input will cause a Colaboratory runtime to cut you off for using too many resources. It's eleven characters long, and this is an O(n!) function so it is generating 39916800 strings because that is how many permutations there are of 11 elements. It's also storing them all in a list, so it's using up O(n!) space.\n",
        "\n",
        "If you find yourself needing to do something like this, the main thing you should know is to try to avoid it.\n",
        "\n",
        "You'll encounter something like this for the Travelling Salesman Problem.\n",
        "\n",
        "(Code adapted from ActiveState [here](http://code.activestate.com/recipes/252178/).)"
      ]
    },
    {
      "cell_type": "markdown",
      "metadata": {
        "id": "tNvgt5WkHh51",
        "colab_type": "text"
      },
      "source": [
        "# O(log n) and O(n log n) with some real algorithms"
      ]
    },
    {
      "cell_type": "markdown",
      "metadata": {
        "id": "EKfTD9ocDVAF",
        "colab_type": "text"
      },
      "source": [
        "O(log n) functions are pretty efficient; for runtime to double, input size has to also double. They're slower than O(1) algorithms but faster than O(n) algorithms, and they tend to have sort of a distinctive 'look', just like the other types of algorithms.\n",
        "\n",
        "O(n log n) functions are fairly efficient; they're faster than O(n<sup>2</sup>) but slower than O(n). They can be composed of an O(log n) function or loop nested inside an O(n) loop or function, which is basically self-explanatory once you know what those two things look like, or they can have another common footprint identical with Mergesort, which I'll go over.\n",
        "\n",
        "(Credit [geeksforgeeks.org](https://www.geeksforgeeks.org/) for both of these code snippets.)"
      ]
    },
    {
      "cell_type": "code",
      "metadata": {
        "id": "tQ0VYt1BC6s9",
        "colab_type": "code",
        "colab": {}
      },
      "source": [
        "# Iterative Binary Search Function \n",
        "# It returns location of x in given array arr if present, \n",
        "# else returns -1 \n",
        "def binarySearch(arr, l, r, x): \n",
        "  \n",
        "    while l <= r: \n",
        "  \n",
        "        mid = l + (r - l)/2; \n",
        "          \n",
        "        # Check if x is present at mid \n",
        "        if arr[mid] == x: \n",
        "            return mid \n",
        "  \n",
        "        # If x is greater, ignore left half \n",
        "        elif arr[mid] < x: \n",
        "            l = mid + 1\n",
        "  \n",
        "        # If x is smaller, ignore right half \n",
        "        else: \n",
        "            r = mid - 1\n",
        "      \n",
        "    # If we reach here, then the element was not present \n",
        "    return -1"
      ],
      "execution_count": 0,
      "outputs": []
    },
    {
      "cell_type": "markdown",
      "metadata": {
        "id": "j1tMzJK8Ft-m",
        "colab_type": "text"
      },
      "source": [
        "This is binary search. It's O(log n). If you find a recursive implementation, you'll see that it checks if the element searched for is in the middle, and then calls itself with half as much input.\n",
        "\n",
        "This is a (more efficient) iterative implementation, but it's doing fundamentally the same thing. You can still read it off to see what's happening with the input. The area to be searched is (r-l), and that quantity is reduced by half every time the loop runs.\n",
        "\n",
        "If the work left to be done (in this case, input to be searched) is divided in half (or by any number, but usually half) every time a loop or function runs, the program is O(log n)."
      ]
    },
    {
      "cell_type": "code",
      "metadata": {
        "id": "N4XSp90JGesH",
        "colab_type": "code",
        "outputId": "6981d5a1-dc55-4064-eeaa-a702e3db9548",
        "colab": {
          "base_uri": "https://localhost:8080/",
          "height": 85
        }
      },
      "source": [
        "# Python program for implementation of MergeSort \n",
        "def mergeSort(arr): \n",
        "    if len(arr) >1: \n",
        "        mid = len(arr)//2 #Finding the mid of the array \n",
        "        L = arr[:mid] # Dividing the array elements  \n",
        "        R = arr[mid:] # into 2 halves \n",
        "  \n",
        "        mergeSort(L) # Sorting the first half \n",
        "        mergeSort(R) # Sorting the second half \n",
        "  \n",
        "        i = j = k = 0\n",
        "          \n",
        "        # Copy data to temp arrays L[] and R[] \n",
        "        while i < len(L) and j < len(R): \n",
        "            if L[i] < R[j]: \n",
        "                arr[k] = L[i] \n",
        "                i+=1\n",
        "            else: \n",
        "                arr[k] = R[j] \n",
        "                j+=1\n",
        "            k+=1\n",
        "          \n",
        "        # Checking if any element was left \n",
        "        while i < len(L): \n",
        "            arr[k] = L[i] \n",
        "            i+=1\n",
        "            k+=1\n",
        "          \n",
        "        while j < len(R): \n",
        "            arr[k] = R[j] \n",
        "            j+=1\n",
        "            k+=1\n",
        "  \n",
        "# Code to print the list \n",
        "def printList(arr): \n",
        "    for i in range(len(arr)):         \n",
        "        print(arr[i],end=\" \") \n",
        "    print() \n",
        "  \n",
        "# driver code to test the above code \n",
        "if __name__ == '__main__': \n",
        "    arr = [12, 11, 13, 5, 6, 7]  \n",
        "    print (\"Given array is\", end=\"\\n\")  \n",
        "    printList(arr) \n",
        "    mergeSort(arr) \n",
        "    print(\"Sorted array is: \", end=\"\\n\") \n",
        "    printList(arr) \n",
        "  \n",
        "# This code is contributed by Mayank Khanna "
      ],
      "execution_count": 0,
      "outputs": [
        {
          "output_type": "stream",
          "text": [
            "Given array is\n",
            "12 11 13 5 6 7 \n",
            "Sorted array is: \n",
            "5 6 7 11 12 13 \n"
          ],
          "name": "stdout"
        }
      ]
    },
    {
      "cell_type": "markdown",
      "metadata": {
        "id": "fKnMTCrzG08Y",
        "colab_type": "text"
      },
      "source": [
        "This is mergesort, which takes an unsorted list of input and sorts it. It does this by splitting the list into one-element lists, then merging those one-element lists into sorted two-element lists, then merging those into sorted four-element lists, and so on until the entire list is sorted.\n",
        "\n",
        "It's O(n log n). O(n log n) functions come in a number of interesting varieties (e.g., quicksort), but those that resemble mergesort are the ones that are the easiest to 'figure out' just by looking at them.\n",
        "\n",
        "The first thing it does is divide its input into left and right halves, and then call itself with both of those halves.\n",
        "\n",
        "This results in a tree of function calls branching 'downward' from the original call to mergesort. Since at each 'level' the functions get half as much input as the previous one, there are O(log n) levels.\n",
        "\n",
        "How much work does each 'level' do? Each 'level' has to read all the input from the level below it to merge it together into bigger lists, so it does O(n) work.\n",
        "\n",
        "O(log n) levels doing O(n) work each are O(n log n) total, the same way you'd calculate area for a rectangle by multiplying the sides together."
      ]
    }
  ]
}